{
 "cells": [
  {
   "cell_type": "markdown",
   "metadata": {
    "collapsed": true
   },
   "source": [
    "# Tarea de clusters \n",
    "\n",
    "## Descripcción\n",
    "En este proyecto cada grupo ejecutara y evaluara distintos algoritmos de clustering sobre un set de datos dado. Para la evaluacion considere la calidad de los clusters en terminos de distancias intra-clusters e inter-clusters considerando parametros que requiera el algoritmo. Ademas evalue el tiempo de ejecucion de los clusters. Para su estudio considere los siguientes algoritmos de clustering.\n",
    "\n",
    "* kmeans\n",
    "* Minibatch kmeans\n",
    "* Jerarquico aglomerativo ´\n",
    "* DBSCAN o HDBSCAN\n",
    "* Meanshift\n",
    "\n",
    "## Datos\n",
    "Para su evaluacion considere el conjunto de puntos 3D entregados ante riormente en el curso (test21 pts 1.txt).\n",
    "\n",
    "## Evaluacion de clusters \n",
    "\n",
    "\n"
   ]
  },
  {
   "cell_type": "code",
   "execution_count": null,
   "metadata": {},
   "outputs": [],
   "source": []
  }
 ],
 "metadata": {
  "kernelspec": {
   "display_name": "Python 3",
   "language": "python",
   "name": "python3"
  },
  "language_info": {
   "codemirror_mode": {
    "name": "ipython",
    "version": 3
   },
   "file_extension": ".py",
   "mimetype": "text/x-python",
   "name": "python",
   "nbconvert_exporter": "python",
   "pygments_lexer": "ipython3",
   "version": "3.5.5"
  }
 },
 "nbformat": 4,
 "nbformat_minor": 2
}

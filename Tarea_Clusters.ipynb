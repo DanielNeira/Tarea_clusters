{
 "cells": [
  {
   "cell_type": "markdown",
   "metadata": {
    "collapsed": true
   },
   "source": [
    "# Tarea de clusters \n",
    "\n",
    "## Descripcción\n",
    "En este proyecto cada grupo ejecutara y evaluara distintos algoritmos de clustering sobre un set de datos dado. Para la evaluacion considere la calidad de los clusters en terminos de distancias intra-clusters e inter-clusters considerando parametros que requiera el algoritmo. Ademas evalue el tiempo de ejecucion de los clusters. Para su estudio considere los siguientes algoritmos de clustering.\n",
    "\n",
    "* kmeans\n",
    "* Minibatch kmeans\n",
    "* Jerarquico aglomerativo ´\n",
    "* DBSCAN o HDBSCAN\n",
    "* Meanshift\n",
    "\n",
    "## Datos\n",
    "Para su evaluacion considere el conjunto de puntos 3D entregados ante riormente en el curso (test21 pts 1.txt).\n",
    "\n",
    "## Evaluacion de clusters \n",
    "\n",
    "Para evaluar los algoritmos de clustering considere la distancia maxima entre cualquier par de puntos para cada cluster y dibuje el CDF con numero de clusters con distancia maximas. Para la distancia inter-cluster compute las distancias mınima entre distintos clusters y construya el CDF con estas distancias para todos los clusters. Para esta medida considere los centroides de los clusters. Ademas proporcione graficos que muestren una comparacion en tiempo de ejecucion para cada algoritmo dependiendo de sus parametros y la comparacion entre distintos algoritmos. Para esto ultimo considere que fija de alguna manera lo que cree es una buena solucion al problema. \n",
    "\n",
    "\n"
   ]
  },
  {
   "cell_type": "markdown",
   "metadata": {},
   "source": [
    "# Librerias"
   ]
  },
  {
   "cell_type": "code",
   "execution_count": 4,
   "metadata": {},
   "outputs": [],
   "source": [
    "import pandas as pd\n",
    "import numpy as np\n",
    "import sklearn.datasets\n",
    "import sklearn.cluster\n",
    "import matplotlib.pyplot as plt\n",
    "from itertools import cycle\n",
    "from mpl_toolkits.mplot3d import Axes3D\n",
    "from sklearn.cluster import AgglomerativeClustering\n",
    "from sklearn.cluster import MeanShift, estimate_bandwidth\n",
    "import scipy\n",
    "from scipy.spatial import distance\n",
    "import time"
   ]
  },
  {
   "cell_type": "markdown",
   "metadata": {},
   "source": [
    "# Lectura de Datos"
   ]
  },
  {
   "cell_type": "code",
   "execution_count": 5,
   "metadata": {},
   "outputs": [],
   "source": [
    "archivo=pd.read_csv('test21_pts_1.txt', header=None, delim_whitespace=True)\n",
    "tamaño_archivo=len(archivo)"
   ]
  },
  {
   "cell_type": "code",
   "execution_count": 6,
   "metadata": {},
   "outputs": [],
   "source": [
    "data=[]\n",
    "for i in range (tamaño_archivo):\n",
    "    data.append(archivo.iloc[i])    "
   ]
  },
  {
   "cell_type": "code",
   "execution_count": 7,
   "metadata": {},
   "outputs": [],
   "source": [
    "data = np.asarray(data)\n",
    "data=data.reshape(tamaño_archivo,3)"
   ]
  },
  {
   "cell_type": "code",
   "execution_count": 8,
   "metadata": {},
   "outputs": [
    {
     "name": "stdout",
     "output_type": "stream",
     "text": [
      "[[119.279  70.17   20.23 ]\n",
      " [115.553  73.036  17.536]\n",
      " [116.126  73.648  17.471]\n",
      " ...\n",
      " [112.595 105.922  78.315]\n",
      " [109.662 157.261 102.544]\n",
      " [110.766 140.324 116.952]]\n",
      "258382\n"
     ]
    }
   ],
   "source": [
    "print(data)\n",
    "print(len(data))"
   ]
  },
  {
   "cell_type": "markdown",
   "metadata": {},
   "source": [
    "# K-means"
   ]
  },
  {
   "cell_type": "code",
   "execution_count": 15,
   "metadata": {},
   "outputs": [],
   "source": [
    "k_means = sklearn.cluster.KMeans(10)\n",
    "clusters_kmeans=k_means.fit(data)\n",
    "lebels_cluster_kmeans=clusters_kmeans.labels_\n",
    "n_clusters_kmeans = lebels_cluster_kmeans.max()+1\n",
    "cluster_centers_kmeans = clusters_kmeans.cluster_centers_"
   ]
  },
  {
   "cell_type": "code",
   "execution_count": 39,
   "metadata": {},
   "outputs": [],
   "source": [
    "alldistances = k_means.inertia_ "
   ]
  },
  {
   "cell_type": "code",
   "execution_count": 127,
   "metadata": {},
   "outputs": [
    {
     "name": "stdout",
     "output_type": "stream",
     "text": [
      "[[131.79763658  45.99526647  67.2738867 ]\n",
      " [129.54529461 123.99659075  16.39082745]\n",
      " [116.91176301 118.18049871  90.43600345]\n",
      " [151.35020714 153.04856627  29.40314817]\n",
      " [124.88312016  79.73474537  29.97907923]\n",
      " [121.38548036 176.86845183  83.11974527]\n",
      " [129.19116158 183.15691515  49.06927207]\n",
      " [159.31375876  95.6313414   53.39129404]\n",
      " [150.6815389   99.42894015  95.93533095]\n",
      " [158.15553125 148.9640281   76.34960967]]\n",
      "valor minirmo=  35.49518496614389\n",
      "[[  0.          93.15774445  77.25788398 115.22545227  50.76480708\n",
      "  132.23953599 138.38901537  58.42604978  63.50777619 106.67555123]\n",
      " [ 93.15774445   0.          75.34003674  38.58486727  46.53479787\n",
      "   85.5263979   67.58661211  55.31530851  85.89317968  70.97164316]\n",
      " [ 77.25788398  75.34003674   0.          78.27386532  72.08785037\n",
      "   59.31119306  77.99951787  60.65232258  39.01616736  53.35822888]\n",
      " [115.22545227  38.58486727  78.27386532   0.          77.94712775\n",
      "   65.96017438  42.24088543  62.73425706  85.45199101  47.61266781]\n",
      " [ 50.76480708  46.53479787  72.08785037  77.94712775   0.\n",
      "  110.77509108 105.25749325  44.56795308  73.50950183  89.72164187]\n",
      " [132.23953599  85.5263979   59.31119306  65.96017438 110.77509108\n",
      "    0.          35.49518497  94.4552975   83.78171788  46.65327687]\n",
      " [138.38901537  67.58661211  77.99951787  42.24088543 105.25749325\n",
      "   35.49518497   0.          92.66486278  98.3292306   52.46241564]\n",
      " [ 58.42604978  55.31530851  60.65232258  62.73425706  44.56795308\n",
      "   94.4552975   92.66486278   0.          43.57673752  58.07582301]\n",
      " [ 63.50777619  85.89317968  39.01616736  85.45199101  73.50950183\n",
      "   83.78171788  98.3292306   43.57673752   0.          53.78834425]\n",
      " [106.67555123  70.97164316  53.35822888  47.61266781  89.72164187\n",
      "   46.65327687  52.46241564  58.07582301  53.78834425   0.        ]]\n"
     ]
    }
   ],
   "source": [
    "print(cluster_centers_kmeans)\n",
    "dist=scipy.spatial.distance.cdist(cluster_centers_kmeans,cluster_centers_kmeans)\n",
    "minval = np.min(dist[np.nonzero(dist)])\n",
    "print(\"valor minirmo= \",minval)\n",
    "print(dist)"
   ]
  },
  {
   "cell_type": "code",
   "execution_count": 124,
   "metadata": {},
   "outputs": [
    {
     "name": "stdout",
     "output_type": "stream",
     "text": [
      "1138.3890153671248\n",
      "[[1138.38901537   93.15774445   77.25788398  115.22545227   50.76480708\n",
      "   132.23953599  138.38901537   58.42604978   63.50777619  106.67555123]\n",
      " [  93.15774445 1138.38901537   75.34003674   38.58486727   46.53479787\n",
      "    85.5263979    67.58661211   55.31530851   85.89317968   70.97164316]\n",
      " [  77.25788398   75.34003674 1138.38901537   78.27386532   72.08785037\n",
      "    59.31119306   77.99951787   60.65232258   39.01616736   53.35822888]\n",
      " [ 115.22545227   38.58486727   78.27386532 1138.38901537   77.94712775\n",
      "    65.96017438   42.24088543   62.73425706   85.45199101   47.61266781]\n",
      " [  50.76480708   46.53479787   72.08785037   77.94712775 1138.38901537\n",
      "   110.77509108  105.25749325   44.56795308   73.50950183   89.72164187]\n",
      " [ 132.23953599   85.5263979    59.31119306   65.96017438  110.77509108\n",
      "  1138.38901537   35.49518497   94.4552975    83.78171788   46.65327687]\n",
      " [ 138.38901537   67.58661211   77.99951787   42.24088543  105.25749325\n",
      "    35.49518497 1138.38901537   92.66486278   98.3292306    52.46241564]\n",
      " [  58.42604978   55.31530851   60.65232258   62.73425706   44.56795308\n",
      "    94.4552975    92.66486278 1138.38901537   43.57673752   58.07582301]\n",
      " [  63.50777619   85.89317968   39.01616736   85.45199101   73.50950183\n",
      "    83.78171788   98.3292306    43.57673752 1138.38901537   53.78834425]\n",
      " [ 106.67555123   70.97164316   53.35822888   47.61266781   89.72164187\n",
      "    46.65327687   52.46241564   58.07582301   53.78834425 1138.38901537]]\n",
      "35.49518496614389\n"
     ]
    }
   ],
   "source": [
    "max_element=np.amax(dist)\n",
    "print(max_element)\n",
    "for d in range (len(dist)):\n",
    "    for e in range (len(dist)):\n",
    "        if dist[d][e]==0:\n",
    "            dist[d][e]=max_element+1000\n",
    "print(dist)            \n",
    "min_element=np.amin(dist)     \n",
    "print(min_element)"
   ]
  },
  {
   "cell_type": "markdown",
   "metadata": {},
   "source": [
    "## Distncia de cada punto al centro del cluster"
   ]
  },
  {
   "cell_type": "code",
   "execution_count": 81,
   "metadata": {
    "scrolled": false
   },
   "outputs": [],
   "source": [
    "def k_mean_distance(data, cx, cy, cz, i_centroid, cluster_labels):\n",
    "        distances = [np.sqrt((x-cx)**2+(y-cy)**2+(z-cz)**2) for (x, y, z) in data[cluster_labels == i_centroid]]\n",
    "        return distances\n",
    "\n",
    "distances = []\n",
    "suma=0\n",
    "for i, (cx, cy,cz) in enumerate(cluster_centers_kmeans):\n",
    "    mean_distance = k_mean_distance(data, cx, cy, cz, i, lebels_cluster_kmeans)\n",
    "    mean_distance=np.asarray(mean_distance)\n",
    "    distances.append(mean_distance)"
   ]
  },
  {
   "cell_type": "markdown",
   "metadata": {},
   "source": [
    "# Distancia de un punto a cualquier otro de cada cluster"
   ]
  },
  {
   "cell_type": "code",
   "execution_count": 60,
   "metadata": {},
   "outputs": [],
   "source": [
    "puntos_cluster={}\n",
    "for a in range(n_clusters_kmeans):\n",
    "    puntos_cluster[a]=list(data[i] for i in range(len(data)) if lebels_cluster_kmeans[i]==a )"
   ]
  },
  {
   "cell_type": "code",
   "execution_count": 80,
   "metadata": {},
   "outputs": [
    {
     "name": "stdout",
     "output_type": "stream",
     "text": [
      "[69.06242968503207, 73.08495364984506, 98.636099613681, 73.66105718763478, 68.07493381561233, 96.34830814290409, 73.4697543823307, 71.07665746220766, 72.86590364498336, 76.17420436735785]\n"
     ]
    }
   ],
   "source": [
    "distancia_max_por_cluster=[]\n",
    "for i in range(n_clusters_kmeans):\n",
    "    dist=scipy.spatial.distance.cdist(puntos_cluster[i],puntos_cluster[i])\n",
    "    distancia_max_por_cluster.append(np.amax(dist))\n",
    "print(distancia_max_por_cluster)    "
   ]
  },
  {
   "cell_type": "code",
   "execution_count": 82,
   "metadata": {},
   "outputs": [
    {
     "data": {
      "text/plain": [
       "98.636099613681"
      ]
     },
     "execution_count": 82,
     "metadata": {},
     "output_type": "execute_result"
    }
   ],
   "source": [
    "max(distancia_max_por_cluster)"
   ]
  },
  {
   "cell_type": "markdown",
   "metadata": {},
   "source": [
    "# Obtencion de Datos de una sola corrida K-means"
   ]
  },
  {
   "cell_type": "code",
   "execution_count": null,
   "metadata": {},
   "outputs": [],
   "source": [
    "size_clusters=[150,200,300]\n",
    "distancia_puntos_kmeans=[]\n",
    "Tiempos_creacion_cluster=[]\n",
    "distancia_centroides_kmeans=[]\n",
    "for c in range(len(size_clusters)):\n",
    "    tamano_cluster=size_clusters[c]\n",
    "    #Genreo el cluster\n",
    "    start=time.time()\n",
    "    k_means = sklearn.cluster.KMeans(tamano_cluster)\n",
    "    clusters_kmeans=k_means.fit(data)\n",
    "    end=time.time()\n",
    "    fin=end-start\n",
    "    \n",
    "    #Datos utiles del cluster\n",
    "    lebels_cluster_kmeans=clusters_kmeans.labels_\n",
    "    n_clusters_kmeans = lebels_cluster_kmeans.max()+1\n",
    "    cluster_centers_kmeans = clusters_kmeans.cluster_centers_\n",
    "\n",
    "    #Saco la distancia entre puntos\n",
    "    puntos_cluster={}\n",
    "    for a in range(n_clusters_kmeans):\n",
    "        puntos_cluster[a]=list(data[i] for i in range(len(data)) if lebels_cluster_kmeans[i]==a )\n",
    "   \n",
    "    distancia_max_por_cluster=[]\n",
    "    for i in range(n_clusters_kmeans):\n",
    "        dist=scipy.spatial.distance.cdist(puntos_cluster[i],puntos_cluster[i])\n",
    "        distancia_max_por_cluster.append(np.amax(dist))\n",
    "        \n",
    "    #Saco la distancia entre los centroides de los clusters\n",
    "    dist_centroides=scipy.spatial.distance.cdist(cluster_centers_kmeans,cluster_centers_kmeans)\n",
    "    min_element = np.min(dist_centroides[np.nonzero(dist_centroides)])\n",
    "    \n",
    "    #Almaceno la distancia minima de los centroides   \n",
    "    distancia_centroides_kmeans.append(min_element)\n",
    "    \n",
    "    #Guardo la distancia maxima entre los puntos   \n",
    "    distancia_puntos_kmeans.append(max(distancia_max_por_cluster))\n",
    "    \n",
    "    #Guardo el tiempo de ejecucion para la creacion del cluster\n",
    "    Tiempos_creacion_cluster.append(fin)\n",
    "    \n",
    "    \n",
    "    print(\"Termine iteracion \",c)\n",
    "    \n",
    "print (distancia_puntos_kmeans)\n",
    "print(Tiempos_creacion_cluster)\n",
    "print(distancia_centroides_kmeans)\n",
    "\n"
   ]
  },
  {
   "cell_type": "markdown",
   "metadata": {},
   "source": [
    "## Gráfico "
   ]
  },
  {
   "cell_type": "code",
   "execution_count": 21,
   "metadata": {},
   "outputs": [
    {
     "ename": "NameError",
     "evalue": "name 'n_clusters_' is not defined",
     "output_type": "error",
     "traceback": [
      "\u001b[1;31m---------------------------------------------------------------------------\u001b[0m",
      "\u001b[1;31mNameError\u001b[0m                                 Traceback (most recent call last)",
      "\u001b[1;32m<ipython-input-21-0f35c388823e>\u001b[0m in \u001b[0;36m<module>\u001b[1;34m()\u001b[0m\n\u001b[0;32m     21\u001b[0m \u001b[0maxc\u001b[0m\u001b[1;33m.\u001b[0m\u001b[0mset_ylim\u001b[0m\u001b[1;33m(\u001b[0m\u001b[0max\u001b[0m\u001b[1;33m.\u001b[0m\u001b[0mget_ylim\u001b[0m\u001b[1;33m(\u001b[0m\u001b[1;33m)\u001b[0m\u001b[1;33m)\u001b[0m\u001b[1;33m\u001b[0m\u001b[0m\n\u001b[0;32m     22\u001b[0m \u001b[0maxc\u001b[0m\u001b[1;33m.\u001b[0m\u001b[0mset_zlim\u001b[0m\u001b[1;33m(\u001b[0m\u001b[0max\u001b[0m\u001b[1;33m.\u001b[0m\u001b[0mget_zlim\u001b[0m\u001b[1;33m(\u001b[0m\u001b[1;33m)\u001b[0m\u001b[1;33m)\u001b[0m\u001b[1;33m\u001b[0m\u001b[0m\n\u001b[1;32m---> 23\u001b[1;33m \u001b[0mplt\u001b[0m\u001b[1;33m.\u001b[0m\u001b[0mtitle\u001b[0m\u001b[1;33m(\u001b[0m\u001b[1;34m'Estimated number of clusters: %d'\u001b[0m \u001b[1;33m%\u001b[0m \u001b[0mn_clusters_\u001b[0m\u001b[1;33m)\u001b[0m\u001b[1;33m\u001b[0m\u001b[0m\n\u001b[0m\u001b[0;32m     24\u001b[0m \u001b[0mplt\u001b[0m\u001b[1;33m.\u001b[0m\u001b[0mshow\u001b[0m\u001b[1;33m(\u001b[0m\u001b[1;33m)\u001b[0m\u001b[1;33m\u001b[0m\u001b[0m\n",
      "\u001b[1;31mNameError\u001b[0m: name 'n_clusters_' is not defined"
     ]
    },
    {
     "data": {
      "image/png": "[encoded data removed]",
      "text/plain": [
       "<Figure size 432x288 with 1 Axes>"
      ]
     },
     "metadata": {},
     "output_type": "display_data"
    },
    {
     "data": {
      "image/png": "[encoded data removed]",
      "text/plain": [
       "<Figure size 432x288 with 1 Axes>"
      ]
     },
     "metadata": {},
     "output_type": "display_data"
    }
   ],
   "source": [
    "X=data\n",
    "fig = plt.figure(1)\n",
    "ax = fig.add_subplot(111, projection='3d')\n",
    "figc = plt.figure(2)\n",
    "axc = figc.add_subplot(111, projection='3d')\n",
    "\n",
    "ax.set_xlabel('X Label')\n",
    "ax.set_ylabel('Y Label')\n",
    "ax.set_zlabel('Z Label')\n",
    "\n",
    "labels1=lebels_cluster_kmeans\n",
    "\n",
    " \n",
    "colors = cycle('bgrcmykbgrcmykbgrcmykbgrcmyk')\n",
    "for k, col in zip(range(n_clusters_kmeans), colors):\n",
    "    my_members = labels1 == k\n",
    "    cluster_center = cluster_centers_kmeans[k]\n",
    "    ax.scatter(X[my_members, 0], X[my_members, 1], X[my_members, 2], c=col, marker='.')\n",
    "    axc.scatter(cluster_centers_kmeans[0], cluster_centers_kmeans[1], cluster_centers_kmeans[2], c=col, marker='o')\n",
    "axc.set_xlim(ax.get_xlim())\n",
    "axc.set_ylim(ax.get_ylim())\n",
    "axc.set_zlim(ax.get_zlim())    \n",
    "plt.title('Estimated number of clusters: %d' % n_clusters_)\n",
    "plt.show()"
   ]
  },
  {
   "cell_type": "markdown",
   "metadata": {},
   "source": [
    "# MiniBatch K-Means"
   ]
  },
  {
   "cell_type": "code",
   "execution_count": null,
   "metadata": {},
   "outputs": [],
   "source": [
    "k_means_MiniBatchKMeans = sklearn.cluster.MiniBatchKMeans(100)\n",
    "clusters_MiniBatchKMeans=k_means_MiniBatchKMeans.fit(data)\n",
    "lebels_cluster_MiniBatchKMeans=clusters.labels_\n",
    "n_clusters_MiniBatchKMeans = lebels_cluster.max()+1\n",
    "cluster_centers_MiniBatchKMeans = clusters.cluster_centers_"
   ]
  },
  {
   "cell_type": "code",
   "execution_count": 89,
   "metadata": {},
   "outputs": [
    {
     "name": "stdout",
     "output_type": "stream",
     "text": [
      "hola0\n",
      "hola1\n",
      "hola2\n",
      "[101.19578262457385]\n",
      "Termine iteracion  0\n",
      "hola0\n",
      "hola1\n",
      "hola2\n",
      "[101.19578262457385, 73.60812241865703]\n",
      "Termine iteracion  1\n",
      "hola0\n",
      "hola1\n",
      "hola2\n",
      "[101.19578262457385, 73.60812241865703, 75.24417548222586]\n",
      "Termine iteracion  2\n",
      "hola0\n",
      "hola1\n",
      "hola2\n",
      "[101.19578262457385, 73.60812241865703, 75.24417548222586, 76.780725367764]\n",
      "Termine iteracion  3\n",
      "hola0\n",
      "hola1\n",
      "hola2\n",
      "[101.19578262457385, 73.60812241865703, 75.24417548222586, 76.780725367764, 60.471273882728816]\n",
      "Termine iteracion  4\n",
      "hola0\n",
      "hola1\n",
      "hola2\n",
      "[101.19578262457385, 73.60812241865703, 75.24417548222586, 76.780725367764, 60.471273882728816, 58.98170648599446]\n",
      "Termine iteracion  5\n",
      "hola0\n",
      "hola1\n",
      "hola2\n",
      "[101.19578262457385, 73.60812241865703, 75.24417548222586, 76.780725367764, 60.471273882728816, 58.98170648599446, 48.33011612855902]\n",
      "Termine iteracion  6\n",
      "hola0\n",
      "hola1\n",
      "hola2\n",
      "[101.19578262457385, 73.60812241865703, 75.24417548222586, 76.780725367764, 60.471273882728816, 58.98170648599446, 48.33011612855902, 34.007882924404456]\n",
      "Termine iteracion  7\n"
     ]
    },
    {
     "ename": "NameError",
     "evalue": "name 'distancia_puntos_kmeans' is not defined",
     "output_type": "error",
     "traceback": [
      "\u001b[1;31m---------------------------------------------------------------------------\u001b[0m",
      "\u001b[1;31mNameError\u001b[0m                                 Traceback (most recent call last)",
      "\u001b[1;32m<ipython-input-89-8f26ca920275>\u001b[0m in \u001b[0;36m<module>\u001b[1;34m()\u001b[0m\n\u001b[0;32m     43\u001b[0m     \u001b[0mprint\u001b[0m\u001b[1;33m(\u001b[0m\u001b[1;34m\"Termine iteracion \"\u001b[0m\u001b[1;33m,\u001b[0m\u001b[0mc\u001b[0m\u001b[1;33m)\u001b[0m\u001b[1;33m\u001b[0m\u001b[0m\n\u001b[0;32m     44\u001b[0m \u001b[1;33m\u001b[0m\u001b[0m\n\u001b[1;32m---> 45\u001b[1;33m \u001b[0mprint\u001b[0m \u001b[1;33m(\u001b[0m\u001b[0mdistancia_puntos_kmeans\u001b[0m\u001b[1;33m)\u001b[0m\u001b[1;33m\u001b[0m\u001b[0m\n\u001b[0m\u001b[0;32m     46\u001b[0m \u001b[1;31m# print(Tiempos_creacion_cluster)\u001b[0m\u001b[1;33m\u001b[0m\u001b[1;33m\u001b[0m\u001b[0m\n\u001b[0;32m     47\u001b[0m \u001b[1;31m# print(distancia_centroides_kmeans)\u001b[0m\u001b[1;33m\u001b[0m\u001b[1;33m\u001b[0m\u001b[0m\n",
      "\u001b[1;31mNameError\u001b[0m: name 'distancia_puntos_kmeans' is not defined"
     ]
    }
   ],
   "source": [
    "size_clusters=[10,30,50,70,100,150,200,300]\n",
    "distancia_puntos_kMiniBatchKMeans=[]\n",
    "Tiempos_creacion_cluster=[]\n",
    "distancia_centroides_kmeans=[]\n",
    "for c in range(len(size_clusters)):\n",
    "    tamano_cluster=size_clusters[c]\n",
    "    #Genreo el cluster\n",
    "    start=time.time()\n",
    "    k_means_MiniBatchKMeans = sklearn.cluster.MiniBatchKMeans(tamano_cluster)\n",
    "    clusters_MiniBatchKMeans=k_means_MiniBatchKMeans.fit(data)\n",
    "    end=time.time()\n",
    "    fin=end-start\n",
    "    print(\"hola0\")\n",
    "    #Datos utiles del cluster\n",
    "    lebels_cluster_MiniBatchKMeans=k_means_MiniBatchKMeans.labels_\n",
    "    n_clusters_MiniBatchKMeans = lebels_cluster_MiniBatchKMeans.max()+1\n",
    "    cluster_centers_MiniBatchKMeans = k_means_MiniBatchKMeans.cluster_centers_\n",
    "\n",
    "    #Saco la distancia entre puntos\n",
    "    puntos_cluster={}\n",
    "    for a in range(n_clusters_MiniBatchKMeans):\n",
    "        puntos_cluster[a]=list(data[i] for i in range(len(data)) if lebels_cluster_MiniBatchKMeans[i]==a )\n",
    "    print(\"hola1\")\n",
    "    distancia_max_por_cluster=[]\n",
    "    for i in range(n_clusters_MiniBatchKMeans):\n",
    "        dist=scipy.spatial.distance.cdist(puntos_cluster[i],puntos_cluster[i])\n",
    "        distancia_max_por_cluster.append(np.amax(dist))\n",
    "    print(\"hola2\")    \n",
    "#     #Saco la distancia entre los centroides de los clusters\n",
    "#     dist_centroides=scipy.spatial.distance.cdist(cluster_centers_MiniBatchKMeans,cluster_centers_MiniBatchKMeans)\n",
    "#     min_element = np.min(dist_centroides[np.nonzero(dist_centroides)])\n",
    "    \n",
    "#     #Almaceno la distancia minima de los centroides   \n",
    "#     distancia_centroides_kmeans.append(min_element)\n",
    "    \n",
    "    #Guardo la distancia maxima entre los puntos   \n",
    "    distancia_puntos_kMiniBatchKMeans.append(max(distancia_max_por_cluster))\n",
    "    \n",
    "#     #Guardo el tiempo de ejecucion para la creacion del cluster\n",
    "#     Tiempos_creacion_cluster.append(fin)\n",
    "    \n",
    "    print (distancia_puntos_kMiniBatchKMeans)\n",
    "    print(\"Termine iteracion \",c)\n",
    "    \n",
    "print (distancia_puntos_kmeans)\n",
    "# print(Tiempos_creacion_cluster)\n",
    "# print(distancia_centroides_kmeans)\n"
   ]
  },
  {
   "cell_type": "markdown",
   "metadata": {},
   "source": [
    "# Jerarquico aglomerativo "
   ]
  },
  {
   "cell_type": "code",
   "execution_count": null,
   "metadata": {},
   "outputs": [],
   "source": [
    "tamaños_datos=[10000,15000,20000,25000,30000,35000,40000]\n",
    "tiempos=[]\n",
    "for i in range(tamaños_datos):\n",
    "    start=time.time()\n",
    "    AgglomerativeClustering = sklearn.cluster.AgglomerativeClustering(500)\n",
    "    cluster_AgglomerativeClustering=AgglomerativeClustering.fit(data[0:tamaños_datos[i]])\n",
    "    end=time.time()\n",
    "    fin=end-start\n",
    "    tiempos.append(fin)"
   ]
  },
  {
   "cell_type": "code",
   "execution_count": 85,
   "metadata": {
    "scrolled": true
   },
   "outputs": [
    {
     "name": "stdout",
     "output_type": "stream",
     "text": [
      "hola0\n",
      "hola1\n",
      "[76.5220236141204]\n",
      "Termine iteracion  0\n",
      "hola0\n",
      "hola1\n",
      "[76.5220236141204, 64.37310952563965]\n",
      "Termine iteracion  1\n",
      "hola0\n",
      "hola1\n",
      "[76.5220236141204, 64.37310952563965, 49.58459639847842]\n",
      "Termine iteracion  2\n",
      "hola0\n",
      "hola1\n",
      "[76.5220236141204, 64.37310952563965, 49.58459639847842, 49.58459639847842]\n",
      "Termine iteracion  3\n",
      "hola0\n",
      "hola1\n",
      "[76.5220236141204, 64.37310952563965, 49.58459639847842, 49.58459639847842, 40.33519408655423]\n",
      "Termine iteracion  4\n",
      "hola0\n",
      "hola1\n",
      "[76.5220236141204, 64.37310952563965, 49.58459639847842, 49.58459639847842, 40.33519408655423, 33.37680856522983]\n",
      "Termine iteracion  5\n",
      "hola0\n",
      "hola1\n",
      "[76.5220236141204, 64.37310952563965, 49.58459639847842, 49.58459639847842, 40.33519408655423, 33.37680856522983, 33.37680856522983]\n",
      "Termine iteracion  6\n",
      "hola0\n",
      "hola1\n",
      "[76.5220236141204, 64.37310952563965, 49.58459639847842, 49.58459639847842, 40.33519408655423, 33.37680856522983, 33.37680856522983, 22.78385432713263]\n",
      "Termine iteracion  7\n",
      "[76.5220236141204, 64.37310952563965, 49.58459639847842, 49.58459639847842, 40.33519408655423, 33.37680856522983, 33.37680856522983, 22.78385432713263]\n"
     ]
    }
   ],
   "source": [
    "data1=data[0:20000]\n",
    "size_clusters=[10,30,50,70,100,150,200,300]\n",
    "distancia_puntos_kMiniBatchKMeans=[]\n",
    "Tiempos_creacion_cluster=[]\n",
    "distancia_centroides_kmeans=[]\n",
    "for c in range(len(size_clusters)):\n",
    "    tamano_cluster=size_clusters[c]\n",
    "    #Genreo el cluster\n",
    "    start=time.time()\n",
    "    AgglomerativeClustering = sklearn.cluster.AgglomerativeClustering(tamano_cluster)\n",
    "    cluster_AgglomerativeClustering=AgglomerativeClustering.fit(data1)\n",
    "    end=time.time()\n",
    "    fin=end-start\n",
    "    \n",
    "    print(\"hola0\")\n",
    "    #Datos utiles del cluster\n",
    "    lebels_cluster_AgglomerativeClustering=AgglomerativeClustering.labels_\n",
    "    n_clusters_AgglomerativeClustering = lebels_cluster_AgglomerativeClustering.max()+1\n",
    "\n",
    "\n",
    "    #diccionario puntos por cluster\n",
    "    puntos_cluster={}\n",
    "    for a in range(n_clusters_AgglomerativeClustering):\n",
    "        puntos_cluster[a]=list(data1[i] for i in range(len(data1)) if lebels_cluster_AgglomerativeClustering[i]==a )\n",
    "    print(\"hola1\")\n",
    "    \n",
    "    distancia_max_por_cluster=[]\n",
    "    for i in range(n_clusters_AgglomerativeClustering):\n",
    "        dist=scipy.spatial.distance.cdist(puntos_cluster[i],puntos_cluster[i])\n",
    "        distancia_max_por_cluster.append(np.amax(dist))\n",
    "                            \n",
    "#     #Genero los centroides\n",
    "#     centro_cluster={}\n",
    "#     for j in range(n_clusters_AgglomerativeClustering):\n",
    "#         x=[]\n",
    "#         y=[]\n",
    "#         z=[]\n",
    "#         for i in range(len(puntos_cluster[j])):\n",
    "#             x.append(puntos_cluster[j][i][0])\n",
    "#             y.append(puntos_cluster[j][i][1])\n",
    "#             z.append(puntos_cluster[j][i][2])\n",
    "#         centro_cluster[j]=[sum(x)/len(puntos_cluster[j]),sum(y)/len(puntos_cluster[j]),sum(z)/len(puntos_cluster[j])] \n",
    "    \n",
    "#     cluster_centers_MiniBatchKMeans=list(centro_cluster.values())\n",
    "        \n",
    "#     #Saco la distancia entre los centroides de los clusters\n",
    "#     dist_centroides=scipy.spatial.distance.cdist(cluster_centers_MiniBatchKMeans,cluster_centers_MiniBatchKMeans)\n",
    "#     min_element = np.min(dist_centroides[np.nonzero(dist_centroides)])\n",
    "#     print(\"hola2\")\n",
    "#     #Almaceno la distancia minima de los centroides   \n",
    "#     distancia_centroides_kmeans.append(min_element)\n",
    "    \n",
    "    #Guardo la distancia maxima entre los puntos   \n",
    "    distancia_puntos_kMiniBatchKMeans.append(max(distancia_max_por_cluster))\n",
    "    \n",
    "#     #Guardo el tiempo de ejecucion para la creacion del cluster\n",
    "#     Tiempos_creacion_cluster.append(fin)\n",
    "    \n",
    "    print (distancia_puntos_kMiniBatchKMeans)\n",
    "#     print(Tiempos_creacion_cluster)\n",
    "#     print(distancia_centroides_kmeans)\n",
    "    print(\"Termine iteracion \",c)\n",
    "    \n",
    "print (distancia_puntos_kMiniBatchKMeans)\n",
    "# print(Tiempos_creacion_cluster)\n",
    "# print(distancia_centroides_kmeans)\n"
   ]
  },
  {
   "cell_type": "markdown",
   "metadata": {},
   "source": [
    "# DBSCAN"
   ]
  },
  {
   "cell_type": "code",
   "execution_count": null,
   "metadata": {},
   "outputs": [],
   "source": []
  },
  {
   "cell_type": "code",
   "execution_count": 130,
   "metadata": {},
   "outputs": [],
   "source": [
    "DBSCAN=sklearn.cluster.DBSCAN(eps=, min_samples=10)\n",
    "cluster_DBSCAN=DBSCAN.fit(data)\n",
    "lebels_cluster_DBSCAN=cluster_DBSCAN.labels_\n",
    "n_clusters_DBSCAN = lebels_cluster_DBSCAN.max()+1\n",
    "cluster_core_DBSCAN= cluster_DBSCAN.core_sample_indices_"
   ]
  },
  {
   "cell_type": "code",
   "execution_count": 133,
   "metadata": {},
   "outputs": [
    {
     "name": "stdout",
     "output_type": "stream",
     "text": [
      "0.5 10\n",
      "0.7 15\n",
      "0.9 17\n",
      "1 20\n",
      "1.5 15\n",
      "2 27\n"
     ]
    }
   ],
   "source": [
    "size_clusters=[(0.5,10),(0.7,15),(0.9,17),(1,20),(1.5,15),(2,27)]\n",
    "distancia_puntos_kMiniBatchKMeans=[]\n",
    "Tiempos_creacion_cluster=[]\n",
    "distancia_centroides_kmeans=[]\n",
    "for c,d in size_clusters:\n",
    "    epsilon=c\n",
    "    min_puntos=d\n",
    "    print(epsilon,min_puntos)"
   ]
  },
  {
   "cell_type": "code",
   "execution_count": 77,
   "metadata": {},
   "outputs": [
    {
     "name": "stdout",
     "output_type": "stream",
     "text": [
      "[3.796846628189087]\n",
      "[0.8916760734706416]\n",
      "Termine iteracion  0.7\n",
      "[3.796846628189087, 4.156883955001831]\n",
      "[0.8916760734706416, 1.162682990184711]\n",
      "Termine iteracion  0.9\n",
      "[3.796846628189087, 4.156883955001831, 4.392287492752075]\n",
      "[0.8916760734706416, 1.162682990184711, 1.293957945495468]\n",
      "Termine iteracion  1\n",
      "[3.796846628189087, 4.156883955001831, 4.392287492752075, 6.156538248062134]\n",
      "[0.8916760734706416, 1.162682990184711, 1.293957945495468, 2.56194961122895]\n",
      "Termine iteracion  1.5\n",
      "[3.796846628189087, 4.156883955001831, 4.392287492752075, 6.156538248062134, 7.612756252288818]\n",
      "[0.8916760734706416, 1.162682990184711, 1.293957945495468, 2.56194961122895, 3.8605285440286026]\n",
      "Termine iteracion  2\n"
     ]
    },
    {
     "ename": "NameError",
     "evalue": "name 'distancia_puntos_kmeans' is not defined",
     "output_type": "error",
     "traceback": [
      "\u001b[1;31m---------------------------------------------------------------------------\u001b[0m",
      "\u001b[1;31mNameError\u001b[0m                                 Traceback (most recent call last)",
      "\u001b[1;32m<ipython-input-77-15c3538a74d7>\u001b[0m in \u001b[0;36m<module>\u001b[1;34m()\u001b[0m\n\u001b[0;32m     61\u001b[0m     \u001b[0mprint\u001b[0m\u001b[1;33m(\u001b[0m\u001b[1;34m\"Termine iteracion \"\u001b[0m\u001b[1;33m,\u001b[0m\u001b[0mc\u001b[0m\u001b[1;33m)\u001b[0m\u001b[1;33m\u001b[0m\u001b[0m\n\u001b[0;32m     62\u001b[0m \u001b[1;33m\u001b[0m\u001b[0m\n\u001b[1;32m---> 63\u001b[1;33m \u001b[0mprint\u001b[0m \u001b[1;33m(\u001b[0m\u001b[0mdistancia_puntos_kmeans\u001b[0m\u001b[1;33m)\u001b[0m\u001b[1;33m\u001b[0m\u001b[0m\n\u001b[0m\u001b[0;32m     64\u001b[0m \u001b[0mprint\u001b[0m\u001b[1;33m(\u001b[0m\u001b[0mTiempos_creacion_cluster\u001b[0m\u001b[1;33m)\u001b[0m\u001b[1;33m\u001b[0m\u001b[0m\n\u001b[0;32m     65\u001b[0m \u001b[1;31m# print(distancia_centroides_kmeans)\u001b[0m\u001b[1;33m\u001b[0m\u001b[1;33m\u001b[0m\u001b[0m\n",
      "\u001b[1;31mNameError\u001b[0m: name 'distancia_puntos_kmeans' is not defined"
     ]
    }
   ],
   "source": [
    "size_clusters=[(0.7,15),(0.9,17),(1,20),(1.5,15),(2,27)]\n",
    "distancia_puntos_kMiniBatchKMeans=[]\n",
    "Tiempos_creacion_cluster=[]\n",
    "distancia_centroides_kmeans=[]\n",
    "\n",
    "for c,d in size_clusters:\n",
    "    epsilon=c\n",
    "    min_puntos=d\n",
    "    #Genreo el cluster\n",
    "    start=time.time()\n",
    "    DBSCAN=sklearn.cluster.DBSCAN(eps=epsilon, min_samples=min_puntos)\n",
    "    cluster_DBSCAN=DBSCAN.fit(data)\n",
    "    end=time.time()\n",
    "    fin=end-start\n",
    "    \n",
    "    #Datos utiles del cluster\n",
    "    lebels_cluster_DBSCAN=cluster_DBSCAN.labels_\n",
    "    n_clusters_DBSCAN = lebels_cluster_DBSCAN.max()+1\n",
    "\n",
    "    \n",
    "    #Diccionario de puntos por cluster\n",
    "    puntos_cluster={}\n",
    "    for a in range(n_clusters_DBSCAN):\n",
    "        puntos_cluster[a]=list(data[i] for i in range(len(data)) if lebels_cluster_DBSCAN[i]==a )\n",
    "\n",
    "#     distancia_max_por_cluster=[]\n",
    "#     for i in range(n_clusters_DBSCAN):\n",
    "#         dist=scipy.spatial.distance.cdist(puntos_cluster[i],puntos_cluster[i])\n",
    "#         distancia_max_por_cluster.append(np.amax(dist))\n",
    "        \n",
    "    #Genero los centroides\n",
    "    centro_cluster={}\n",
    "    for j in range(n_clusters_DBSCAN):\n",
    "        x=[]\n",
    "        y=[]\n",
    "        z=[]\n",
    "        for i in range(len(puntos_cluster[j])):\n",
    "            x.append(puntos_cluster[j][i][0])\n",
    "            y.append(puntos_cluster[j][i][1])\n",
    "            z.append(puntos_cluster[j][i][2])\n",
    "        centro_cluster[j]=[sum(x)/len(puntos_cluster[j]),sum(y)/len(puntos_cluster[j]),sum(z)/len(puntos_cluster[j])] \n",
    "    \n",
    "    cluster_core_MiniBatchKMeans=list(centro_cluster.values())        \n",
    "        \n",
    "    #Saco la distancia entre los centroides de los clusters\n",
    "    dist_centroides=scipy.spatial.distance.cdist(cluster_core_MiniBatchKMeans,cluster_core_MiniBatchKMeans)\n",
    "    min_element = np.min(dist_centroides[np.nonzero(dist_centroides)])\n",
    "    \n",
    "    #Almaceno la distancia minima de los centroides   \n",
    "    distancia_centroides_kmeans.append(min_element)\n",
    "    \n",
    "#     #Guardo la distancia maxima entre los puntos   \n",
    "#     distancia_puntos_kmeans.append(max(distancia_max_por_cluster))\n",
    "    \n",
    "    #Guardo el tiempo de ejecucion para la creacion del cluster\n",
    "    Tiempos_creacion_cluster.append(fin)\n",
    "    \n",
    "#     print (distancia_puntos_kmeans)\n",
    "    print(Tiempos_creacion_cluster)\n",
    "    print(distancia_centroides_kmeans)\n",
    "    print(\"Termine iteracion \",c)\n",
    "    \n",
    "print (distancia_puntos_kmeans)\n",
    "print(Tiempos_creacion_cluster)\n",
    "# print(distancia_centroides_kmeans)\n"
   ]
  },
  {
   "cell_type": "markdown",
   "metadata": {},
   "source": [
    "# Meanshift"
   ]
  },
  {
   "cell_type": "code",
   "execution_count": 139,
   "metadata": {},
   "outputs": [
    {
     "name": "stdout",
     "output_type": "stream",
     "text": [
      "4.258714269630907\n"
     ]
    }
   ],
   "source": [
    "# bandwidth=sklearn.cluster.estimate_bandwidth(data)\n",
    "bandwidth=estimate_bandwidth(X, quantile=.005, n_samples=60)\n",
    "print(bandwidth)"
   ]
  },
  {
   "cell_type": "code",
   "execution_count": 44,
   "metadata": {},
   "outputs": [
    {
     "name": "stdout",
     "output_type": "stream",
     "text": [
      "11.342974424362183\n"
     ]
    }
   ],
   "source": [
    "from sklearn.cluster import MeanShift, estimate_bandwidth\n",
    "start=time.time()\n",
    "MeanShift=MeanShift(bandwidth=60, bin_seeding=True)\n",
    "cluster_MeanShift=MeanShift.fit(data)\n",
    "end=time.time()\n",
    "fin=end-start\n",
    "print(fin)"
   ]
  },
  {
   "cell_type": "code",
   "execution_count": 46,
   "metadata": {},
   "outputs": [
    {
     "name": "stdout",
     "output_type": "stream",
     "text": [
      "53.094022035598755\n"
     ]
    }
   ],
   "source": [
    "start=time.time()\n",
    "MeanShift=sklearn.cluster.MeanShift(bandwidth=4,bin_seeding=True)\n",
    "cluster_MeanShift=MeanShift.fit(data)\n",
    "end=time.time()\n",
    "fin=end-start\n",
    "print(fin)"
   ]
  },
  {
   "cell_type": "code",
   "execution_count": 47,
   "metadata": {},
   "outputs": [],
   "source": [
    "lebels_cluster_MeanShift=cluster_MeanShift.labels_\n",
    "n_clusters_MeanShift= lebels_cluster_MeanShift.max()+1\n",
    "cluster_core_MeanShift= cluster_MeanShift.cluster_centers_ "
   ]
  },
  {
   "cell_type": "code",
   "execution_count": 49,
   "metadata": {},
   "outputs": [],
   "source": [
    "puntos_cluster={}\n",
    "for a in range(n_clusters_MeanShift):\n",
    "    puntos_cluster[a]=list(data[i] for i in range(len(data)) if lebels_cluster_MeanShift[i]==a )\n",
    "    "
   ]
  },
  {
   "cell_type": "code",
   "execution_count": 63,
   "metadata": {},
   "outputs": [],
   "source": [
    "centro_cluster={}\n",
    "for j in range(n_clusters_MeanShift):\n",
    "    x=[]\n",
    "    y=[]\n",
    "    z=[]\n",
    "    for i in range(len(puntos_cluster[j])):\n",
    "        x.append(puntos_cluster[j][i][0])\n",
    "        y.append(puntos_cluster[j][i][1])\n",
    "        z.append(puntos_cluster[j][i][2])\n",
    "    centro_cluster[j]=[sum(x)/len(puntos_cluster[j]),sum(y)/len(puntos_cluster[j]),sum(z)/len(puntos_cluster[j])]    \n",
    "        "
   ]
  },
  {
   "cell_type": "code",
   "execution_count": 87,
   "metadata": {},
   "outputs": [
    {
     "name": "stdout",
     "output_type": "stream",
     "text": [
      "hola0\n",
      "distancia_puntos_kmeans=  [80.65044243524025]\n",
      "hola0\n",
      "distancia_puntos_kmeans=  [80.65044243524025, 77.6235065492406]\n",
      "[80.65044243524025, 77.6235065492406]\n"
     ]
    }
   ],
   "source": [
    "size_clusters=[18,20]\n",
    "distancia_puntos_kMiniBatchKMeans=[]\n",
    "Tiempos_creacion_cluster=[]\n",
    "distancia_centroides_kmeans=[]\n",
    "\n",
    "for c in size_clusters:\n",
    "    from sklearn.cluster import MeanShift, estimate_bandwidth\n",
    "    bandwith=c\n",
    "    #Genreo el cluster\n",
    "    start=time.time()\n",
    "    MeanShift=MeanShift(bandwidth=c, bin_seeding=True)\n",
    "    cluster_MeanShift=MeanShift.fit(data)\n",
    "    end=time.time()\n",
    "    fin=end-start\n",
    "    \n",
    "    #Datos utiles del cluster\n",
    "    lebels_cluster_MeanShift=cluster_MeanShift.labels_\n",
    "    n_clusters_MeanShift= lebels_cluster_MeanShift.max()+1\n",
    "\n",
    "    #Diccionario de puntos por cluster\n",
    "    puntos_cluster={}\n",
    "    for a in range(n_clusters_MeanShift):\n",
    "        puntos_cluster[a]=list(data[i] for i in range(len(data)) if lebels_cluster_MeanShift[i]==a )\n",
    "    print(\"hola0\")\n",
    "    distancia_max_por_cluster=[]\n",
    "    for i in range(n_clusters_MeanShift):\n",
    "        dist=scipy.spatial.distance.cdist(puntos_cluster[i],puntos_cluster[i])\n",
    "        distancia_max_por_cluster.append(np.amax(dist))\n",
    "        \n",
    "#     #Genero los centroides\n",
    "#     centro_cluster={}\n",
    "#     for j in range(n_clusters_MeanShift):\n",
    "#         x=[]\n",
    "#         y=[]\n",
    "#         z=[]\n",
    "#         for i in range(len(puntos_cluster[j])):\n",
    "#             x.append(puntos_cluster[j][i][0])\n",
    "#             y.append(puntos_cluster[j][i][1])\n",
    "#             z.append(puntos_cluster[j][i][2])\n",
    "#         centro_cluster[j]=[sum(x)/len(puntos_cluster[j]),sum(y)/len(puntos_cluster[j]),sum(z)/len(puntos_cluster[j])] \n",
    "    \n",
    "#     cluster_core_MeanShift=list(centro_cluster.values())\n",
    "\n",
    "    \n",
    "#     #Saco la distancia entre los centroides de los clusters\n",
    "#     dist_centroides=scipy.spatial.distance.cdist(cluster_core_MeanShift,cluster_core_MeanShift)\n",
    "#     min_element = np.min(dist_centroides[np.nonzero(dist_centroides)])\n",
    "    \n",
    "#     #Almaceno la distancia minima de los centroides   \n",
    "#     distancia_centroides_kmeans.append(min_element)\n",
    "    \n",
    "    #Guardo la distancia maxima entre los puntos   \n",
    "    distancia_puntos_kMiniBatchKMeans.append(max(distancia_max_por_cluster))\n",
    "    \n",
    "#     #Guardo el tiempo de ejecucion para la creacion del cluster\n",
    "#     Tiempos_creacion_cluster.append(fin)\n",
    "    \n",
    "    print (\"distancia_puntos_kmeans= \",distancia_puntos_kMiniBatchKMeans)\n",
    "#     print(\"Tiempos_creacion_cluster= \",Tiempos_creacion_cluster)\n",
    "#     print(\"Termine iteracion \",c)\n",
    "    \n",
    "print (distancia_puntos_kMiniBatchKMeans)\n",
    "# print(Tiempos_creacion_cluster)\n",
    "# print(distancia_centroides_kmeans)"
   ]
  },
  {
   "cell_type": "code",
   "execution_count": null,
   "metadata": {},
   "outputs": [],
   "source": []
  }
 ],
 "metadata": {
  "kernelspec": {
   "display_name": "Python 3",
   "language": "python",
   "name": "python3"
  },
  "language_info": {
   "codemirror_mode": {
    "name": "ipython",
    "version": 3
   },
   "file_extension": ".py",
   "mimetype": "text/x-python",
   "name": "python",
   "nbconvert_exporter": "python",
   "pygments_lexer": "ipython3",
   "version": "3.5.5"
  }
 },
 "nbformat": 4,
 "nbformat_minor": 2
}
